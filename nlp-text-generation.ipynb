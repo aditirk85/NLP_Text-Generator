{
 "cells": [
  {
   "cell_type": "markdown",
   "metadata": {
    "papermill": {
     "duration": 0.015218,
     "end_time": "2023-04-30T10:03:20.978410",
     "exception": false,
     "start_time": "2023-04-30T10:03:20.963192",
     "status": "completed"
    },
    "tags": []
   },
   "source": [
    "<img src=\"https://drive.google.com/uc?export=view&amp;id=1zSJwAUxWv5bxyYLmYPNi-s6M_Wq5iWXh\">"
   ]
  },
  {
   "cell_type": "markdown",
   "metadata": {
    "papermill": {
     "duration": 0.011313,
     "end_time": "2023-04-30T10:03:21.001418",
     "exception": false,
     "start_time": "2023-04-30T10:03:20.990105",
     "status": "completed"
    },
    "tags": []
   },
   "source": [
    "## Importing tools"
   ]
  },
  {
   "cell_type": "code",
   "execution_count": 1,
   "metadata": {
    "_cell_guid": "b1076dfc-b9ad-4769-8c92-a6c4dae69d19",
    "_uuid": "8f2839f25d086af736a60e9eeb907d3b93b6e0e5",
    "execution": {
     "iopub.execute_input": "2023-04-30T10:03:21.029207Z",
     "iopub.status.busy": "2023-04-30T10:03:21.028199Z",
     "iopub.status.idle": "2023-04-30T10:03:22.801548Z",
     "shell.execute_reply": "2023-04-30T10:03:22.800636Z",
     "shell.execute_reply.started": "2023-04-30T09:37:38.134725Z"
    },
    "papermill": {
     "duration": 1.78821,
     "end_time": "2023-04-30T10:03:22.801681",
     "exception": false,
     "start_time": "2023-04-30T10:03:21.013471",
     "status": "completed"
    },
    "tags": []
   },
   "outputs": [],
   "source": [
    "import numpy as np\n",
    "import pandas as pd\n",
    "import os\n",
    "import re\n",
    "import string\n",
    "from nltk.tokenize import word_tokenize\n",
    "from nltk.corpus import stopwords\n",
    "import random"
   ]
  },
  {
   "cell_type": "markdown",
   "metadata": {
    "papermill": {
     "duration": 0.011129,
     "end_time": "2023-04-30T10:03:22.824179",
     "exception": false,
     "start_time": "2023-04-30T10:03:22.813050",
     "status": "completed"
    },
    "tags": []
   },
   "source": [
    "## Reading every Sherlock Holmes adventure!"
   ]
  },
  {
   "cell_type": "code",
   "execution_count": 2,
   "metadata": {
    "execution": {
     "iopub.execute_input": "2023-04-30T10:03:22.851545Z",
     "iopub.status.busy": "2023-04-30T10:03:22.850425Z",
     "iopub.status.idle": "2023-04-30T10:03:23.509668Z",
     "shell.execute_reply": "2023-04-30T10:03:23.510444Z",
     "shell.execute_reply.started": "2023-04-30T09:37:39.785460Z"
    },
    "papermill": {
     "duration": 0.674776,
     "end_time": "2023-04-30T10:03:23.510614",
     "exception": false,
     "start_time": "2023-04-30T10:03:22.835838",
     "status": "completed"
    },
    "tags": []
   },
   "outputs": [
    {
     "name": "stdout",
     "output_type": "stream",
     "text": [
      "number of lines =  215021\n"
     ]
    }
   ],
   "source": [
    "story_path = \"/kaggle/input/sherlock-holmes-stories/sherlock/sherlock/\"\n",
    "\n",
    "def read_all_stories(story_path):\n",
    "    txt = []\n",
    "    for _, _, files in os.walk(story_path):\n",
    "        for file in files:\n",
    "            with open(story_path+file) as f:\n",
    "                for line in f:\n",
    "                    line = line.strip()\n",
    "                    if line=='----------': break\n",
    "                    if line!='':txt.append(line)\n",
    "    return txt\n",
    "        \n",
    "stories = read_all_stories(story_path)\n",
    "print(\"number of lines = \", len(stories))"
   ]
  },
  {
   "cell_type": "markdown",
   "metadata": {
    "papermill": {
     "duration": 0.012808,
     "end_time": "2023-04-30T10:03:23.540415",
     "exception": false,
     "start_time": "2023-04-30T10:03:23.527607",
     "status": "completed"
    },
    "tags": []
   },
   "source": [
    "## Cleaning the text"
   ]
  },
  {
   "cell_type": "code",
   "execution_count": 3,
   "metadata": {
    "execution": {
     "iopub.execute_input": "2023-04-30T10:03:23.578611Z",
     "iopub.status.busy": "2023-04-30T10:03:23.577867Z",
     "iopub.status.idle": "2023-04-30T10:03:50.016909Z",
     "shell.execute_reply": "2023-04-30T10:03:50.016357Z",
     "shell.execute_reply.started": "2023-04-30T09:37:40.614713Z"
    },
    "papermill": {
     "duration": 26.460198,
     "end_time": "2023-04-30T10:03:50.017122",
     "exception": false,
     "start_time": "2023-04-30T10:03:23.556924",
     "status": "completed"
    },
    "tags": []
   },
   "outputs": [
    {
     "name": "stdout",
     "output_type": "stream",
     "text": [
      "number of words =  2332247\n"
     ]
    }
   ],
   "source": [
    "def clean_txt(txt):\n",
    "    cleaned_txt = []\n",
    "    for line in txt:\n",
    "        line = line.lower()\n",
    "        line = re.sub(r\"[,.\\\"\\'!@#$%^&*(){}?/;`~:<>+=-\\\\]\", \"\", line)\n",
    "        tokens = word_tokenize(line)\n",
    "        words = [word for word in tokens if word.isalpha()]\n",
    "        cleaned_txt+=words\n",
    "    return cleaned_txt\n",
    "\n",
    "cleaned_stories = clean_txt(stories)\n",
    "print(\"number of words = \", len(cleaned_stories))"
   ]
  },
  {
   "cell_type": "markdown",
   "metadata": {
    "papermill": {
     "duration": 0.011887,
     "end_time": "2023-04-30T10:03:50.042194",
     "exception": false,
     "start_time": "2023-04-30T10:03:50.030307",
     "status": "completed"
    },
    "tags": []
   },
   "source": [
    "## Creating the Markov Model"
   ]
  },
  {
   "cell_type": "code",
   "execution_count": 4,
   "metadata": {
    "execution": {
     "iopub.execute_input": "2023-04-30T10:03:50.070743Z",
     "iopub.status.busy": "2023-04-30T10:03:50.069946Z",
     "iopub.status.idle": "2023-04-30T10:03:50.079101Z",
     "shell.execute_reply": "2023-04-30T10:03:50.079682Z",
     "shell.execute_reply.started": "2023-04-30T09:38:07.647299Z"
    },
    "papermill": {
     "duration": 0.025487,
     "end_time": "2023-04-30T10:03:50.079843",
     "exception": false,
     "start_time": "2023-04-30T10:03:50.054356",
     "status": "completed"
    },
    "tags": []
   },
   "outputs": [],
   "source": [
    "def make_markov_model(cleaned_stories, n_gram=2):\n",
    "    markov_model = {}\n",
    "    for i in range(len(cleaned_stories)-n_gram-1):\n",
    "        curr_state, next_state = \"\", \"\"\n",
    "        for j in range(n_gram):\n",
    "            curr_state += cleaned_stories[i+j] + \" \"\n",
    "            next_state += cleaned_stories[i+j+n_gram] + \" \"\n",
    "        curr_state = curr_state[:-1]\n",
    "        next_state = next_state[:-1]\n",
    "        if curr_state not in markov_model:\n",
    "            markov_model[curr_state] = {}\n",
    "            markov_model[curr_state][next_state] = 1\n",
    "        else:\n",
    "            if next_state in markov_model[curr_state]:\n",
    "                markov_model[curr_state][next_state] += 1\n",
    "            else:\n",
    "                markov_model[curr_state][next_state] = 1\n",
    "    \n",
    "    # calculating transition probabilities\n",
    "    for curr_state, transition in markov_model.items():\n",
    "        total = sum(transition.values())\n",
    "        for state, count in transition.items():\n",
    "            markov_model[curr_state][state] = count/total\n",
    "        \n",
    "    return markov_model"
   ]
  },
  {
   "cell_type": "code",
   "execution_count": 5,
   "metadata": {
    "execution": {
     "iopub.execute_input": "2023-04-30T10:03:50.108301Z",
     "iopub.status.busy": "2023-04-30T10:03:50.107617Z",
     "iopub.status.idle": "2023-04-30T10:03:56.132749Z",
     "shell.execute_reply": "2023-04-30T10:03:56.132105Z",
     "shell.execute_reply.started": "2023-04-30T09:38:07.665527Z"
    },
    "papermill": {
     "duration": 6.040653,
     "end_time": "2023-04-30T10:03:56.132889",
     "exception": false,
     "start_time": "2023-04-30T10:03:50.092236",
     "status": "completed"
    },
    "tags": []
   },
   "outputs": [],
   "source": [
    "markov_model = make_markov_model(cleaned_stories)"
   ]
  },
  {
   "cell_type": "code",
   "execution_count": 6,
   "metadata": {
    "execution": {
     "iopub.execute_input": "2023-04-30T10:03:56.163213Z",
     "iopub.status.busy": "2023-04-30T10:03:56.162560Z",
     "iopub.status.idle": "2023-04-30T10:03:56.166109Z",
     "shell.execute_reply": "2023-04-30T10:03:56.165485Z",
     "shell.execute_reply.started": "2023-04-30T09:38:13.881345Z"
    },
    "papermill": {
     "duration": 0.020998,
     "end_time": "2023-04-30T10:03:56.166229",
     "exception": false,
     "start_time": "2023-04-30T10:03:56.145231",
     "status": "completed"
    },
    "tags": []
   },
   "outputs": [
    {
     "name": "stdout",
     "output_type": "stream",
     "text": [
      "number of states =  208716\n"
     ]
    }
   ],
   "source": [
    "print(\"number of states = \", len(markov_model.keys()))"
   ]
  },
  {
   "cell_type": "code",
   "execution_count": 7,
   "metadata": {
    "execution": {
     "iopub.execute_input": "2023-04-30T10:03:56.196660Z",
     "iopub.status.busy": "2023-04-30T10:03:56.195908Z",
     "iopub.status.idle": "2023-04-30T10:03:56.199887Z",
     "shell.execute_reply": "2023-04-30T10:03:56.199233Z",
     "shell.execute_reply.started": "2023-04-30T09:38:13.896031Z"
    },
    "papermill": {
     "duration": 0.021192,
     "end_time": "2023-04-30T10:03:56.200010",
     "exception": false,
     "start_time": "2023-04-30T10:03:56.178818",
     "status": "completed"
    },
    "tags": []
   },
   "outputs": [
    {
     "name": "stdout",
     "output_type": "stream",
     "text": [
      "All possible transitions from 'the game' state: \n",
      "\n",
      "{'my own': 0.02702702702702703, 'at any': 0.02702702702702703, 'mr holmes': 0.02702702702702703, 'ay whats': 0.02702702702702703, 'my friend': 0.02702702702702703, 'fairly by': 0.02702702702702703, 'is not': 0.02702702702702703, 'was not': 0.02702702702702703, 'is hardly': 0.02702702702702703, 'was in': 0.02702702702702703, 'would have': 0.036036036036036036, 'is up': 0.06306306306306306, 'is and': 0.036036036036036036, 'in their': 0.036036036036036036, 'was whist': 0.036036036036036036, 'was up': 0.09009009009009009, 'in that': 0.036036036036036036, 'the lack': 0.036036036036036036, 'for all': 0.06306306306306306, 'is afoot': 0.036036036036036036, 'may wander': 0.02702702702702703, 'now a': 0.02702702702702703, 'was afoot': 0.036036036036036036, 'for the': 0.036036036036036036, 'worth it': 0.02702702702702703, 'you are': 0.02702702702702703, 'i am': 0.02702702702702703, 'now count': 0.02702702702702703, 'your letter': 0.02702702702702703}\n"
     ]
    }
   ],
   "source": [
    "print(\"All possible transitions from 'the game' state: \\n\")\n",
    "print(markov_model['the game'])"
   ]
  },
  {
   "cell_type": "markdown",
   "metadata": {
    "papermill": {
     "duration": 0.012336,
     "end_time": "2023-04-30T10:03:56.225248",
     "exception": false,
     "start_time": "2023-04-30T10:03:56.212912",
     "status": "completed"
    },
    "tags": []
   },
   "source": [
    "## Generating Sherlock Holmes stories!"
   ]
  },
  {
   "cell_type": "code",
   "execution_count": 8,
   "metadata": {
    "execution": {
     "iopub.execute_input": "2023-04-30T10:03:56.254531Z",
     "iopub.status.busy": "2023-04-30T10:03:56.253821Z",
     "iopub.status.idle": "2023-04-30T10:03:56.260708Z",
     "shell.execute_reply": "2023-04-30T10:03:56.261258Z",
     "shell.execute_reply.started": "2023-04-30T09:38:13.910414Z"
    },
    "papermill": {
     "duration": 0.023305,
     "end_time": "2023-04-30T10:03:56.261432",
     "exception": false,
     "start_time": "2023-04-30T10:03:56.238127",
     "status": "completed"
    },
    "tags": []
   },
   "outputs": [],
   "source": [
    "def generate_story(markov_model, limit=100, start='my god'):\n",
    "    n = 0\n",
    "    curr_state = start\n",
    "    next_state = None\n",
    "    story = \"\"\n",
    "    story+=curr_state+\" \"\n",
    "    while n<limit:\n",
    "        next_state = random.choices(list(markov_model[curr_state].keys()),\n",
    "                                    list(markov_model[curr_state].values()))\n",
    "        \n",
    "        curr_state = next_state[0]\n",
    "        story+=curr_state+\" \"\n",
    "        n+=1\n",
    "    return story"
   ]
  },
  {
   "cell_type": "code",
   "execution_count": 9,
   "metadata": {
    "execution": {
     "iopub.execute_input": "2023-04-30T10:03:56.290822Z",
     "iopub.status.busy": "2023-04-30T10:03:56.290115Z",
     "iopub.status.idle": "2023-04-30T10:03:56.303407Z",
     "shell.execute_reply": "2023-04-30T10:03:56.302816Z",
     "shell.execute_reply.started": "2023-04-30T09:38:13.924909Z"
    },
    "papermill": {
     "duration": 0.029107,
     "end_time": "2023-04-30T10:03:56.303532",
     "exception": false,
     "start_time": "2023-04-30T10:03:56.274425",
     "status": "completed"
    },
    "tags": []
   },
   "outputs": [
    {
     "name": "stdout",
     "output_type": "stream",
     "text": [
      "0.  dear holmes i ejaculated no for my steve you are lost nothing but energy can save me only \n",
      "1.  dear holmes it is unthinkable and that these marks were slight there is no use then its up \n",
      "2.  dear holmes i ejaculated surely said i the gentleman at this time i was glad enough to agree \n",
      "3.  dear holmes i have been as keen as the weeks passed and yet now that i would prove \n",
      "4.  dear holmes my previous letters and papers upon this table and chair will you have the drop on \n",
      "5.  dear holmes if i was compelled to listen to her fate or had some vague recollection of an \n",
      "6.  dear holmes i have seldom seen a more detailed account of that well its the colleen inside of \n",
      "7.  dear holmes i ejaculated as a public danger there are unexplored possibilities about you take a broader point \n",
      "8.  dear holmes i exclaimed you will give a very full accounts i was impatient with less than your \n",
      "9.  dear holmes am i to do with money and used this means of giving way in which mr \n",
      "10.  dear holmes i ejaculated from my own observations by the throat he seized my hair in both his \n",
      "11.  dear holmes i exclaimed in unfeigned admiration it is so mr holmes poor douglas they tell me but \n",
      "12.  dear holmes my previous letters and underneath boats to hire a presentable carriage and horse to do this \n",
      "13.  dear holmes said i of knowing the motives for your services but in a disused well somewhere try \n",
      "14.  dear holmes i ejaculated precisely so said mr bennett the various incidents will now be narrated brought his \n",
      "15.  dear holmes my previous letters and meetings and a great shadow seemed to pass there are no proofs \n",
      "16.  dear holmes if i had not forgotten nor forgiven well he can speak several languages and play nearly \n",
      "17.  dear holmes i ejaculated my dear watson said he it is a trifle rusty i fear your servant \n",
      "18.  dear holmes i thought it better to let him see if you saw the vague outline of a \n",
      "19.  dear holmes that i must have put this on then having left lestrade at scotland yard when provincials \n"
     ]
    }
   ],
   "source": [
    "for i in range(20):\n",
    "    print(str(i)+\". \", generate_story(markov_model, start=\"dear holmes\", limit=8))"
   ]
  },
  {
   "cell_type": "code",
   "execution_count": 10,
   "metadata": {
    "execution": {
     "iopub.execute_input": "2023-04-30T10:03:56.340997Z",
     "iopub.status.busy": "2023-04-30T10:03:56.336688Z",
     "iopub.status.idle": "2023-04-30T10:03:56.345721Z",
     "shell.execute_reply": "2023-04-30T10:03:56.345010Z",
     "shell.execute_reply.started": "2023-04-30T09:38:13.949910Z"
    },
    "papermill": {
     "duration": 0.028889,
     "end_time": "2023-04-30T10:03:56.345853",
     "exception": false,
     "start_time": "2023-04-30T10:03:56.316964",
     "status": "completed"
    },
    "tags": []
   },
   "outputs": [
    {
     "name": "stdout",
     "output_type": "stream",
     "text": [
      "0.  my dear sir cried dr mortimer gazing at holmes and that same drebber and young stangerson as to \n",
      "1.  my dear fellow i dont think that you are not of much practical importance if a clerk of \n",
      "2.  my dear mrs smith said holmes looking up in surprise when my eye caught something which i should \n",
      "3.  my dear man said old turner i have no desire to encourage false hopes but you can imagine \n",
      "4.  my dear watson your has been done to cure her of her people but mcginty and by god \n",
      "5.  my dear boy is the history of crime sir they both asked it would be to me such \n",
      "6.  my dear fellow you see exactly what it was at home a man followed me from marseilles there \n",
      "7.  my dear watson said holmes rubbing his hands softly together and chuckled those are as clear as day \n",
      "8.  my dear watson you improve all the time of which they were very anxious to consult you upon \n",
      "9.  my dear fellow there is no murder anyhow id as soon die with a practice a small page \n",
      "10.  my dear fellow i congratulate you inspector on the back of the two people upon earth who can \n",
      "11.  my dear watson the rest of the company of people perhaps to these very singular enclosures he took \n",
      "12.  my dear watson but after what i have reasons to suspect that there has only been here a \n",
      "13.  my dear fellow for photography snapping away with the gentleman thanking me on the waves showed us where \n",
      "14.  my dear watson the more deeply into the hall where ames had turned the key in the door \n",
      "15.  my dear watson he has been a duel between you mr acton and the civilians to win mind \n",
      "16.  my dear watson said holmes shaking a reproving forefinger you would not be safe from them anything which \n",
      "17.  my dear watson but this case yours faithfully j neil gibson there you have not seen her since \n",
      "18.  my dear young lady who lives near harrow and we cut down the wretched creature began to whimper \n",
      "19.  my dear watson that this gentleman billy in the sir show him up in his chair let us \n"
     ]
    }
   ],
   "source": [
    "for i in range(20):\n",
    "    print(str(i)+\". \", generate_story(markov_model, start=\"my dear\", limit=8))"
   ]
  },
  {
   "cell_type": "code",
   "execution_count": 11,
   "metadata": {
    "execution": {
     "iopub.execute_input": "2023-04-30T10:03:56.382734Z",
     "iopub.status.busy": "2023-04-30T10:03:56.380254Z",
     "iopub.status.idle": "2023-04-30T10:03:56.389944Z",
     "shell.execute_reply": "2023-04-30T10:03:56.389363Z",
     "shell.execute_reply.started": "2023-04-30T09:38:13.975404Z"
    },
    "papermill": {
     "duration": 0.030197,
     "end_time": "2023-04-30T10:03:56.390070",
     "exception": false,
     "start_time": "2023-04-30T10:03:56.359873",
     "status": "completed"
    },
    "tags": []
   },
   "outputs": [
    {
     "name": "stdout",
     "output_type": "stream",
     "text": [
      "0.  i would rather die under my command and to be his own regiment the bombay infantry died upon \n",
      "1.  i would rather swing a score of cases full of gout too they say it is not i \n",
      "2.  i would give so much to suppose such a coincidence to suppose that any letter of an impulsive \n",
      "3.  i would take this myself what of coming danger nothing serious my dear watson i am expecting him \n",
      "4.  i would not do so could effect an arrest until night at covent garden indeed i could not \n",
      "5.  i would leave her long out of his language as he seemed to represent one i presume that \n",
      "6.  i would spend my last copper to shield him she had learned to imitate you and above all \n",
      "7.  i would really rather not well possibly so there are grounds round it woods on three sides by \n",
      "8.  i would i could not help suspecting that she had heard what passed between these little problems help \n",
      "9.  i would go with a few hours ago the light of a litter of pipes syringes penknives and \n",
      "10.  i would fain disbelieve stories that i have heard of her marriage to this mr soames what could \n",
      "11.  i would not have the house mortimer the man of whom i have ever separated myself from the \n",
      "12.  i would never rest until my friends fate had been carried out the commands of their generation the \n",
      "13.  i would suggest that you cease to write down and as soon as you wore the same expression \n",
      "14.  i would ask you however to lay his hands upon me and i see said i ah then \n",
      "15.  i would not venture to say those are all the trouble i had also arrived and to him \n",
      "16.  i would lay a whip across your shoulders by jove it is lestrades little of victory holmes answered \n",
      "17.  i would not dare to trust to his house in a new shoe since the cab drew up \n",
      "18.  i would have you read the details of which have been left unexplained he could not in the \n",
      "19.  i would have you succeeded well you have no objection upon the safe from me come along watson \n"
     ]
    }
   ],
   "source": [
    "for i in range(20):\n",
    "    print(str(i)+\". \", generate_story(markov_model, start=\"i would\", limit=8))"
   ]
  },
  {
   "cell_type": "code",
   "execution_count": 12,
   "metadata": {
    "execution": {
     "iopub.execute_input": "2023-04-30T10:03:56.426891Z",
     "iopub.status.busy": "2023-04-30T10:03:56.426122Z",
     "iopub.status.idle": "2023-04-30T10:03:56.429828Z",
     "shell.execute_reply": "2023-04-30T10:03:56.429165Z",
     "shell.execute_reply.started": "2023-04-30T09:45:12.578864Z"
    },
    "papermill": {
     "duration": 0.025752,
     "end_time": "2023-04-30T10:03:56.430000",
     "exception": false,
     "start_time": "2023-04-30T10:03:56.404248",
     "status": "completed"
    },
    "tags": []
   },
   "outputs": [
    {
     "name": "stdout",
     "output_type": "stream",
     "text": [
      "fresh illustration is an old soldier i perceive that you you of that asked holmes with a mischievous twinkle i suppose that man phelps does not seem to have done her to receive anything through the house oh father father what shall i do not know why i think that i have been you surely do not seriously imagine that they were peculiar boots but his leavetaking was cut short by a razor or a wig i could not shake off the mans hat on which i should call it a pose is an expert singlestick player boxer and swordsman has a grievance he said he i wish to impress clients with a sense of my troubles next day you have made a vast gap between either hypothesis and the neighing of horses loud as it seems to show that mr oldacre kept himself informed of our movements they certainly confirm the strange rumours began to ascend the stairs the bang of a door suddenly flew open out into the hall both of them and you see also that there may be exposed such slips are common to both professions there is a tone of reproach of reproach for it maybe well see more than such a collection of old trunks and cases which i have given it is perhaps better first to take a medical degree helped me to tell your story as if a little good berkshire beef would do him no no i must go more to the root of it had been demure and by no means well marked and the heels in the box with a sliding panel just above the horizon to some of his time he would be obliged to you said he and he at once and took down the great index volume to \n"
     ]
    }
   ],
   "source": [
    "print(generate_story(markov_model, start=\"fresh illustration\", limit=150))"
   ]
  }
 ],
 "metadata": {
  "kernelspec": {
   "display_name": "Python 3",
   "language": "python",
   "name": "python3"
  },
  "language_info": {
   "codemirror_mode": {
    "name": "ipython",
    "version": 3
   },
   "file_extension": ".py",
   "mimetype": "text/x-python",
   "name": "python",
   "nbconvert_exporter": "python",
   "pygments_lexer": "ipython3",
   "version": "3.7.6"
  },
  "papermill": {
   "duration": 40.453863,
   "end_time": "2023-04-30T10:03:56.552863",
   "environment_variables": {},
   "exception": null,
   "input_path": "__notebook__.ipynb",
   "output_path": "__notebook__.ipynb",
   "parameters": {},
   "start_time": "2023-04-30T10:03:16.099000",
   "version": "2.1.0"
  }
 },
 "nbformat": 4,
 "nbformat_minor": 4
}
